{
 "cells": [
  {
   "cell_type": "code",
   "execution_count": null,
   "metadata": {},
   "outputs": [],
   "source": [
    "import pandas as pd\n",
    "from sklearn.model_selection import train_test_split\n",
    "from sklearn.preprocessing import StandardScaler"
   ]
  },
  {
   "cell_type": "markdown",
   "metadata": {},
   "source": [
    "# Preprocessing of Data"
   ]
  },
  {
   "cell_type": "code",
   "execution_count": 7,
   "metadata": {},
   "outputs": [],
   "source": [
    "file_path='X:\\hemlo\\car_price_prediction.csv'\n",
    "data=pd.read_csv(file_path)\n",
    "columns_irrelevant=['ID','Model','Levy','Wheel','Color','Leather interior','Engine volume']\n",
    "data_filtered = data.drop(columns=columns_irrelevant)\n",
    "columns_to_encode = ['Gear box type', 'Fuel type', 'Manufacturer', 'Category', 'Drive wheels','Doors']\n",
    "data_encoded = pd.get_dummies(data_filtered, columns=columns_to_encode)\n",
    "data_encoded['Mileage']=data_encoded['Mileage'].str.replace(' km', '')\n",
    "data_encoded['Mileage'] = pd.to_numeric(data_encoded['Mileage'])\n",
    "y=data_encoded['Price']\n",
    "x=data_encoded.drop(columns=['Price'])\n",
    "x_train, x_test, y_train, y_test = train_test_split(x, y, test_size=0.2, random_state=42)\n",
    "scaler = StandardScaler()\n",
    "x_train_scaled = scaler.fit_transform(x_train)\n",
    "x_test_scaled = scaler.transform(x_test)"
   ]
  },
  {
   "cell_type": "code",
   "execution_count": null,
   "metadata": {},
   "outputs": [],
   "source": []
  }
 ],
 "metadata": {
  "kernelspec": {
   "display_name": "Python 3",
   "language": "python",
   "name": "python3"
  },
  "language_info": {
   "codemirror_mode": {
    "name": "ipython",
    "version": 3
   },
   "file_extension": ".py",
   "mimetype": "text/x-python",
   "name": "python",
   "nbconvert_exporter": "python",
   "pygments_lexer": "ipython3",
   "version": "3.11.5"
  },
  "orig_nbformat": 4
 },
 "nbformat": 4,
 "nbformat_minor": 2
}
