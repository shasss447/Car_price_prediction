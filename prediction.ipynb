{
 "cells": [
  {
   "cell_type": "code",
   "execution_count": 21,
   "metadata": {},
   "outputs": [
    {
     "name": "stdout",
     "output_type": "stream",
     "text": [
      "             ID  Price  Levy    Model  Prod. year Engine volume    Mileage  \\\n",
      "0      45654403  13328  1399   RX 450        2010           3.5  186005 km   \n",
      "1      44731507  16621  1018  Equinox        2011             3  192000 km   \n",
      "2      45774419   8467     -      FIT        2006           1.3  200000 km   \n",
      "3      45769185   3607   862   Escape        2011           2.5  168966 km   \n",
      "4      45809263  11726   446      FIT        2014           1.3   91901 km   \n",
      "...         ...    ...   ...      ...         ...           ...        ...   \n",
      "19232  45798355   8467     -  CLK 200        1999     2.0 Turbo  300000 km   \n",
      "19233  45778856  15681   831   Sonata        2011           2.4  161600 km   \n",
      "19234  45804997  26108   836   Tucson        2010             2  116365 km   \n",
      "19235  45793526   5331  1288  Captiva        2007             2   51258 km   \n",
      "19236  45813273    470   753   Sonata        2012           2.4  186923 km   \n",
      "\n",
      "       Cylinders  Airbags  Gear box type_Automatic  ...  Leather interior_No  \\\n",
      "0            6.0       12                     True  ...                False   \n",
      "1            6.0        8                    False  ...                 True   \n",
      "2            4.0        2                    False  ...                 True   \n",
      "3            4.0        0                     True  ...                False   \n",
      "4            4.0        4                     True  ...                False   \n",
      "...          ...      ...                      ...  ...                  ...   \n",
      "19232        4.0        5                    False  ...                False   \n",
      "19233        4.0        8                    False  ...                False   \n",
      "19234        4.0        4                     True  ...                False   \n",
      "19235        4.0        4                     True  ...                False   \n",
      "19236        4.0       12                     True  ...                False   \n",
      "\n",
      "       Leather interior_Yes  Drive wheels_4x4  Drive wheels_Front  \\\n",
      "0                      True              True               False   \n",
      "1                     False              True               False   \n",
      "2                     False             False                True   \n",
      "3                      True              True               False   \n",
      "4                      True             False                True   \n",
      "...                     ...               ...                 ...   \n",
      "19232                  True             False               False   \n",
      "19233                  True             False                True   \n",
      "19234                  True             False                True   \n",
      "19235                  True             False                True   \n",
      "19236                  True             False                True   \n",
      "\n",
      "       Drive wheels_Rear  Doors_02-Mar  Doors_04-May  Doors_>5  \\\n",
      "0                  False         False          True     False   \n",
      "1                  False         False          True     False   \n",
      "2                  False         False          True     False   \n",
      "3                  False         False          True     False   \n",
      "4                  False         False          True     False   \n",
      "...                  ...           ...           ...       ...   \n",
      "19232               True          True         False     False   \n",
      "19233              False         False          True     False   \n",
      "19234              False         False          True     False   \n",
      "19235              False         False          True     False   \n",
      "19236              False         False          True     False   \n",
      "\n",
      "       Wheel_Left wheel  Wheel_Right-hand drive  \n",
      "0                  True                   False  \n",
      "1                  True                   False  \n",
      "2                 False                    True  \n",
      "3                  True                   False  \n",
      "4                  True                   False  \n",
      "...                 ...                     ...  \n",
      "19232              True                   False  \n",
      "19233              True                   False  \n",
      "19234              True                   False  \n",
      "19235              True                   False  \n",
      "19236              True                   False  \n",
      "\n",
      "[19237 rows x 122 columns]\n"
     ]
    }
   ],
   "source": [
    "import pandas as pd\n",
    "file_path='X:\\hemlo\\car_price_prediction.csv'\n",
    "data=pd.read_csv(file_path)\n",
    "columns_to_encode = ['Gear box type', 'Fuel type', 'Color', 'Manufacturer', 'Category', 'Leather interior', 'Drive wheels','Doors','Wheel']\n",
    "data_encoded = pd.get_dummies(data, columns=columns_to_encode)\n"
   ]
  },
  {
   "cell_type": "code",
   "execution_count": null,
   "metadata": {},
   "outputs": [],
   "source": []
  }
 ],
 "metadata": {
  "kernelspec": {
   "display_name": "Python 3",
   "language": "python",
   "name": "python3"
  },
  "language_info": {
   "codemirror_mode": {
    "name": "ipython",
    "version": 3
   },
   "file_extension": ".py",
   "mimetype": "text/x-python",
   "name": "python",
   "nbconvert_exporter": "python",
   "pygments_lexer": "ipython3",
   "version": "3.11.5"
  },
  "orig_nbformat": 4
 },
 "nbformat": 4,
 "nbformat_minor": 2
}
