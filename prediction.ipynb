{
 "cells": [
  {
   "cell_type": "markdown",
   "metadata": {},
   "source": [
    "# Importing Libraries"
   ]
  },
  {
   "cell_type": "code",
   "execution_count": 1,
   "metadata": {},
   "outputs": [],
   "source": [
    "import pandas as pd\n",
    "from sklearn.model_selection import train_test_split\n",
    "from sklearn.preprocessing import StandardScaler\n",
    "from sklearn.metrics import mean_squared_error\n",
    "from sklearn.metrics import r2_score\n",
    "import numpy as np"
   ]
  },
  {
   "cell_type": "markdown",
   "metadata": {},
   "source": [
    "# Preprocessing of Data"
   ]
  },
  {
   "cell_type": "code",
   "execution_count": 8,
   "metadata": {},
   "outputs": [],
   "source": [
    "file_path='car_price_prediction.csv'\n",
    "data=pd.read_csv(file_path)\n",
    "columns_irrelevant=['ID','Model','Levy','Wheel','Color','Leather interior','Engine volume','Category','Manufacturer','Fuel type','Doors']\n",
    "data_filtered = data.drop(columns=columns_irrelevant)\n",
    "# columns_to_encode = ['Gear box type', 'Drive wheels']\n",
    "# data_encoded = pd.get_dummies(data_filtered, columns=columns_to_encode)\n",
    "mapping1 = {\n",
    "    'Automatic': 1,\n",
    "    'Tiptronic': 2,\n",
    "    'Variator': 3,\n",
    "    'Manual': 4\n",
    "}\n",
    "mapping2 = {\n",
    "    '4x4': 1,\n",
    "    'Front': 2,\n",
    "    'Rear': 3    \n",
    "}\n",
    "data_filtered['Gear box type'] = data_filtered['Gear box type'].map(mapping1)\n",
    "data_filtered['Drive wheels'] = data_filtered['Drive wheels'].map(mapping2)\n",
    "data_filtered['Mileage']=data_filtered['Mileage'].str.replace(' km', '')\n",
    "data_filtered['Mileage'] = pd.to_numeric(data_filtered['Mileage'])\n",
    "y=data_filtered['Price']\n",
    "x=data_filtered.drop(columns=['Price'])\n",
    "x_train, x_test, y_train, y_test = train_test_split(x, y, test_size=0.2, random_state=42)\n",
    "scaler = StandardScaler()\n",
    "x_train_scaled = scaler.fit_transform(x_train)\n",
    "x_test_scaled = scaler.transform(x_test)\n",
    "#y_train_scaled=scaler.transform(y_train.reshape(-1, 1))\n",
    "#y_test_scaled=scaler.transform(y_train.reshape(-1, 1))\n",
    "y_train_numpy = y_train.values\n",
    "y_test_numpy = y_test.values\n",
    "num_rows,num_cols = x.shape"
   ]
  },
  {
   "cell_type": "code",
   "execution_count": 7,
   "metadata": {},
   "outputs": [
    {
     "data": {
      "text/html": [
       "<div>\n",
       "<style scoped>\n",
       "    .dataframe tbody tr th:only-of-type {\n",
       "        vertical-align: middle;\n",
       "    }\n",
       "\n",
       "    .dataframe tbody tr th {\n",
       "        vertical-align: top;\n",
       "    }\n",
       "\n",
       "    .dataframe thead th {\n",
       "        text-align: right;\n",
       "    }\n",
       "</style>\n",
       "<table border=\"1\" class=\"dataframe\">\n",
       "  <thead>\n",
       "    <tr style=\"text-align: right;\">\n",
       "      <th></th>\n",
       "      <th>Price</th>\n",
       "      <th>Prod. year</th>\n",
       "      <th>Mileage</th>\n",
       "      <th>Cylinders</th>\n",
       "      <th>Gear box type</th>\n",
       "      <th>Drive wheels</th>\n",
       "      <th>Airbags</th>\n",
       "    </tr>\n",
       "  </thead>\n",
       "  <tbody>\n",
       "    <tr>\n",
       "      <th>0</th>\n",
       "      <td>13328</td>\n",
       "      <td>2010</td>\n",
       "      <td>186005</td>\n",
       "      <td>6.0</td>\n",
       "      <td>1</td>\n",
       "      <td>1</td>\n",
       "      <td>12</td>\n",
       "    </tr>\n",
       "    <tr>\n",
       "      <th>1</th>\n",
       "      <td>16621</td>\n",
       "      <td>2011</td>\n",
       "      <td>192000</td>\n",
       "      <td>6.0</td>\n",
       "      <td>2</td>\n",
       "      <td>1</td>\n",
       "      <td>8</td>\n",
       "    </tr>\n",
       "    <tr>\n",
       "      <th>2</th>\n",
       "      <td>8467</td>\n",
       "      <td>2006</td>\n",
       "      <td>200000</td>\n",
       "      <td>4.0</td>\n",
       "      <td>3</td>\n",
       "      <td>2</td>\n",
       "      <td>2</td>\n",
       "    </tr>\n",
       "    <tr>\n",
       "      <th>3</th>\n",
       "      <td>3607</td>\n",
       "      <td>2011</td>\n",
       "      <td>168966</td>\n",
       "      <td>4.0</td>\n",
       "      <td>1</td>\n",
       "      <td>1</td>\n",
       "      <td>0</td>\n",
       "    </tr>\n",
       "    <tr>\n",
       "      <th>4</th>\n",
       "      <td>11726</td>\n",
       "      <td>2014</td>\n",
       "      <td>91901</td>\n",
       "      <td>4.0</td>\n",
       "      <td>1</td>\n",
       "      <td>2</td>\n",
       "      <td>4</td>\n",
       "    </tr>\n",
       "  </tbody>\n",
       "</table>\n",
       "</div>"
      ],
      "text/plain": [
       "   Price  Prod. year  Mileage  Cylinders  Gear box type  Drive wheels  Airbags\n",
       "0  13328        2010   186005        6.0              1             1       12\n",
       "1  16621        2011   192000        6.0              2             1        8\n",
       "2   8467        2006   200000        4.0              3             2        2\n",
       "3   3607        2011   168966        4.0              1             1        0\n",
       "4  11726        2014    91901        4.0              1             2        4"
      ]
     },
     "execution_count": 7,
     "metadata": {},
     "output_type": "execute_result"
    }
   ],
   "source": [
    "data_filtered.head()"
   ]
  },
  {
   "cell_type": "markdown",
   "metadata": {},
   "source": [
    "## Building linear regression model from scratch"
   ]
  },
  {
   "cell_type": "code",
   "execution_count": 22,
   "metadata": {},
   "outputs": [
    {
     "name": "stdout",
     "output_type": "stream",
     "text": [
      "Epoch 0, Loss 22840634070.093735\n",
      "Epoch 100, Loss 22666774719.39118\n",
      "Epoch 200, Loss 22639140601.162807\n",
      "Epoch 300, Loss 22633589231.92864\n",
      "Epoch 400, Loss 22632073839.97071\n",
      "Epoch 500, Loss 22631549242.46998\n",
      "Epoch 600, Loss 22631344940.74606\n",
      "Epoch 700, Loss 22631261709.30351\n",
      "Epoch 800, Loss 22631227273.604454\n",
      "Epoch 900, Loss 22631212953.575687\n"
     ]
    }
   ],
   "source": [
    "def predict(x):\n",
    "    global w,b\n",
    "    return np.dot(x,w)+b\n",
    "\n",
    "def cost_function(y_target,y_pred):\n",
    "    m=y_target.shape[0]\n",
    "    cost=0\n",
    "    for i in range(m):\n",
    "        diff=(y_pred[i]-y_target[i])**2\n",
    "        cost+=diff\n",
    "    total_cost=(1/(2*m))*cost\n",
    "    return total_cost\n",
    "\n",
    "def grad_decsend(x,y_target,y_pred,learn_rate):\n",
    "    global w,b\n",
    "    error=y_pred-y_target\n",
    "    m=y_pred.shape[0]\n",
    "    grad=(1/m)*np.dot(x.T,error)\n",
    "    w-=learn_rate*grad\n",
    "    b-=learn_rate*np.mean(error)\n",
    "\n",
    "learn_rate=0.01\n",
    "epochs=1000\n",
    "w = np.zeros(num_cols)\n",
    "b = 0\n",
    "for epoch in range(epochs):\n",
    "    y_pred=predict(x_train_scaled)\n",
    "    loss=cost_function(y_train_numpy,y_pred)\n",
    "    grad_decsend(x_train_scaled,y_train_numpy,y_pred,learn_rate)\n",
    "    if epoch%100==0:\n",
    "        print(f'Epoch {epoch}, Loss {loss}')\n"
   ]
  },
  {
   "cell_type": "code",
   "execution_count": 23,
   "metadata": {},
   "outputs": [
    {
     "name": "stdout",
     "output_type": "stream",
     "text": [
      "[ 6748.64959544  -203.33692987  2897.08200786  7335.64272674\n",
      "  -715.38362199 -4136.537484  ]\n",
      "18946.854433703556\n"
     ]
    }
   ],
   "source": [
    "print(w)\n",
    "print(b)"
   ]
  },
  {
   "cell_type": "markdown",
   "metadata": {},
   "source": [
    "## Prediction on test data"
   ]
  },
  {
   "cell_type": "code",
   "execution_count": 24,
   "metadata": {},
   "outputs": [
    {
     "name": "stdout",
     "output_type": "stream",
     "text": [
      "Mean Squared Error: 299371807.6515068\n",
      "R-squared Score: 0.03923279796583112\n"
     ]
    }
   ],
   "source": [
    "y_pr=predict(x_test_scaled)\n",
    "mse = mean_squared_error(y_test_numpy, y_pr)\n",
    "print(\"Mean Squared Error:\", mse)\n",
    "r2 = r2_score(y_test_numpy, y_pr)\n",
    "print(\"R-squared Score:\", r2)"
   ]
  }
 ],
 "metadata": {
  "kernelspec": {
   "display_name": "Python 3",
   "language": "python",
   "name": "python3"
  },
  "language_info": {
   "codemirror_mode": {
    "name": "ipython",
    "version": 3
   },
   "file_extension": ".py",
   "mimetype": "text/x-python",
   "name": "python",
   "nbconvert_exporter": "python",
   "pygments_lexer": "ipython3",
   "version": "3.11.5"
  },
  "orig_nbformat": 4
 },
 "nbformat": 4,
 "nbformat_minor": 2
}
